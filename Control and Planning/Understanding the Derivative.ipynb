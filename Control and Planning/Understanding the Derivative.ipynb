{
 "cells": [
  {
   "cell_type": "markdown",
   "metadata": {},
   "source": [
    "# Understanding the Derivative\n",
    "\n",
    "You just saw these three statements. \n",
    "\n",
    "> 1. **Velocity** is the instantaneous rate of change of **position**\n",
    "> 2. **Velocity** is the slope of the tangent line of **position**\n",
    "> 3. **Velocity** is the derivative of **position**\n",
    "\n",
    "But there's another, more formal (and mathematical) definition of the derivative that you're going to explore in this notebook as you build an intuitive understanding for what a derivative is.\n",
    "\n",
    "## BEFORE YOU CONTINUE\n",
    "This notebook is a long one and it really requires focus and attention to be useful. Before you continue, make sure that:\n",
    "\n",
    "1. You have **at least 30 minutes** of time to spend here.\n",
    "2. You have the mental energy to read through math and some (occasionally) complex code.\n"
   ]
  },
  {
   "cell_type": "markdown",
   "metadata": {},
   "source": [
    "-----"
   ]
  },
  {
   "cell_type": "markdown",
   "metadata": {},
   "source": [
    "## Formal definition of the derivative\n",
    "\n",
    "The **derivative of $f(t)$ with respect to t** is the function $\\dot{f}(t)$ (\"f dot of t\") and is defined as\n",
    "\n",
    "$$\\dot{f}(t) = \\lim_{\\Delta t \\to 0} \\frac{f(t+\\Delta t) - f(t)}{\\Delta t}$$\n",
    "\n",
    "You should read this equation as follows:\n",
    "\n",
    "*\"F dot of t is equal to the limit as delta t goes to zero of F of t plus delta t minus F of t all over delta t\"*"
   ]
  },
  {
   "cell_type": "markdown",
   "metadata": {},
   "source": [
    "## Outline\n",
    "In this notebook we are going to unpack this definition by walking through a series of activities that will end with us defining a python function called `approximate_derivative`. This function will look very similar to the math shown above.\n",
    "\n",
    "A rough outline of how we'll get there:\n",
    "\n",
    "1. **Discrete vs Continuous Motion** - A quick reminder of the difference between **discrete** and **continuous** motion and some practice defining continuous functions in code. \n",
    "\n",
    "2. **Plotting continuous functions** - This is where you'll see  `plot_continuous_function` which is a function that takes **another function** as an input.  \n",
    "\n",
    "3. **Finding derivatives \"by hand\"** - Here you'll find the **velocity** of an object *at a particular time* by zooming in on its **position vs time** graph and finding the slope.\n",
    "\n",
    "4. **Finding derivatives algorithmically** - Here you'll use a function to reproduce the steps you just did \"by hand\".\n",
    "\n",
    "5. **OPTIONAL: Finding the full derivative** - In steps 3 and 4 you actually found the derivative of a function *at a particular time*, here you'll see how you can get the derivative of a function for **all** times at once. Be warned - the code gets a little weird here.\n"
   ]
  },
  {
   "cell_type": "markdown",
   "metadata": {},
   "source": [
    "-----"
   ]
  },
  {
   "cell_type": "markdown",
   "metadata": {},
   "source": [
    "## 1 - Discrete vs Continuous Motion\n",
    "\n",
    "The data we deal with in a self driving car comes to us discretely. That is, it only comes to us at certain timestamps. For example, we might get a position measurement at timestamp `t=352.396` and the next position measurement at timestamp `t=352.411`. But what happened in between those two measurements? Did the vehicle **not have a position** at, for example, `t=352.400`?\n",
    "\n",
    "Of course not!\n",
    "\n",
    "> Even though the position data we measure comes to us **discretely**, we know that the actual motion of the vehicle is **continuous**.\n",
    "\n",
    "Let's say I start moving forwards from `x=0` at `t=0` with a speed of $2 m/s$. At t=1, x will be 2 and at t=4, x will be 8. I can plot my position at 1 second intervals as follows:"
   ]
  },
  {
   "cell_type": "code",
   "execution_count": 1,
   "metadata": {},
   "outputs": [
    {
     "data": {
      "image/png": "[encoded data removed]",
      "text/plain": [
       "<matplotlib.figure.Figure at 0x7fa974cd0048>"
      ]
     },
     "metadata": {
      "needs_background": "light"
     },
     "output_type": "display_data"
    }
   ],
   "source": [
    "from matplotlib import pyplot as plt\n",
    "%matplotlib inline\n",
    "\n",
    "t = [0,1,2,3,4]\n",
    "x = [0,2,4,6,8]\n",
    "\n",
    "plt.scatter(t,x)\n",
    "plt.show()"
   ]
  },
  {
   "cell_type": "markdown",
   "metadata": {},
   "source": [
    "This graph above is a **discrete** picture of motion. And this graph came from two Python **lists**... \n",
    "\n",
    "But what about the underlying **continuous** motion? We can represent this motion with a function $f$ like this:\n",
    "\n",
    "$$f(t)=2t$$\n",
    "\n",
    "\n",
    "How can we represent that in code? \n",
    "\n",
    "A list won't do! We need to define (surprise, surprise) a function!"
   ]
  },
  {
   "cell_type": "code",
   "execution_count": 2,
   "metadata": {},
   "outputs": [
    {
     "name": "stdout",
     "output_type": "stream",
     "text": [
      "at t = 0 position is 0\n",
      "at t = 1 position is 2\n",
      "at t = 2 position is 4\n",
      "at t = 3 position is 6\n",
      "at t = 4 position is 8\n"
     ]
    }
   ],
   "source": [
    "def position(time):\n",
    "    return 2*time\n",
    "\n",
    "print(\"at t =\", 0, \"position is\", position(0))\n",
    "print(\"at t =\", 1, \"position is\", position(1))\n",
    "print(\"at t =\", 2, \"position is\", position(2))\n",
    "print(\"at t =\", 3, \"position is\", position(3))\n",
    "print(\"at t =\", 4, \"position is\", position(4))"
   ]
  },
  {
   "cell_type": "markdown",
   "metadata": {},
   "source": [
    "That looks right (and it matches our data from above). Plus it can be used to get the position of the vehicle in between \"sensor measurements!\""
   ]
  },
  {
   "cell_type": "code",
   "execution_count": 3,
   "metadata": {},
   "outputs": [
    {
     "name": "stdout",
     "output_type": "stream",
     "text": [
      "at t = 2.2351 position is 4.4702\n"
     ]
    }
   ],
   "source": [
    "print(\"at t =\", 2.2351, \"position is\", position(2.2351))"
   ]
  },
  {
   "cell_type": "markdown",
   "metadata": {},
   "source": [
    "This `position(time)` function is a continuous function of time. When you see $f(t)$ in the formal definition of the derivative you should think of something like this."
   ]
  },
  {
   "cell_type": "markdown",
   "metadata": {},
   "source": [
    "-----"
   ]
  },
  {
   "cell_type": "markdown",
   "metadata": {},
   "source": [
    "## 2 - Plotting Continuous Functions\n",
    "\n",
    "Now that we have a continuous function, how do we plot it??\n",
    "\n",
    "We're going to use `numpy` and a function called `linspace` to help us out. First let me demonstrate plotting our position function for times between 0 and 4."
   ]
  },
  {
   "cell_type": "code",
   "execution_count": 4,
   "metadata": {},
   "outputs": [
    {
     "data": {
      "image/png": "[encoded data removed]",
      "text/plain": [
       "<matplotlib.figure.Figure at 0x7fa974ca5278>"
      ]
     },
     "metadata": {
      "needs_background": "light"
     },
     "output_type": "display_data"
    }
   ],
   "source": [
    "# Demonstration of continuous plotting\n",
    "\n",
    "import numpy as np\n",
    "\n",
    "t = np.linspace(0, 4)\n",
    "x = position(t)\n",
    "\n",
    "plt.plot(t, x)\n",
    "plt.show()"
   ]
  },
  {
   "cell_type": "markdown",
   "metadata": {},
   "source": [
    "#### EXERCISE - create and plot a continuous function of time\n",
    "**Write a function, `position_b(time)` that represents the following motion:**\n",
    "\n",
    "$$f(t)=-4.9t^2 + 30t$$\n",
    "\n",
    "**then plot the function from t = 0 to t = 6.12**"
   ]
  },
  {
   "cell_type": "code",
   "execution_count": 7,
   "metadata": {},
   "outputs": [
    {
     "data": {
      "image/png": "[encoded data removed]",
      "text/plain": [
       "<matplotlib.figure.Figure at 0x7fa95323dbe0>"
      ]
     },
     "metadata": {
      "needs_background": "light"
     },
     "output_type": "display_data"
    }
   ],
   "source": [
    "# EXERCISE\n",
    "import numpy as np\n",
    "def position_b(t):\n",
    "    return -4.9*t**2 + 30*t\n",
    "    pass\n",
    "\n",
    "t = np.linspace(0,6.12)\n",
    "x = position_b(t)\n",
    "\n",
    "plt.plot(t,x)\n",
    "plt.show()\n",
    "# don't forget to plot this function from t=0 to t=6.12  \n",
    "# Solution is below."
   ]
  },
  {
   "cell_type": "code",
   "execution_count": null,
   "metadata": {},
   "outputs": [],
   "source": [
    "#\n",
    "\n",
    "#\n",
    "\n",
    "#\n",
    "\n",
    "# Spoiler alert! Solution below!\n",
    "\n",
    "#\n",
    "\n",
    "#\n",
    "\n",
    "#"
   ]
  },
  {
   "cell_type": "code",
   "execution_count": 6,
   "metadata": {},
   "outputs": [
    {
     "data": {
      "image/png": "[encoded data removed]",
      "text/plain": [
       "<matplotlib.figure.Figure at 0x7fa9532e6cc0>"
      ]
     },
     "metadata": {
      "needs_background": "light"
     },
     "output_type": "display_data"
    }
   ],
   "source": [
    "def position_b(time):\n",
    "    return -4.9 * time ** 2 + 30 * time\n",
    "\n",
    "t = np.linspace(0, 6.12)\n",
    "z = position_b(t)\n",
    "\n",
    "plt.plot(t, z)\n",
    "plt.show()"
   ]
  },
  {
   "cell_type": "markdown",
   "metadata": {},
   "source": [
    "**Fun fact (maybe)**\n",
    "\n",
    "There's a reason I used the variable `z` in my plotting code. `z` is typically used to represent distance above the ground and the function you just plotted actually represents the height of a ball thrown upwards with an initial velocity of $30 m/s$. As you can see the ball reaches its maximum height about 3 seconds after being thrown."
   ]
  },
  {
   "cell_type": "markdown",
   "metadata": {},
   "source": [
    "### 2.1 - Generalize our plotting code\n",
    "I don't want to have to keep copy and pasting plotting code so I'm just going to write a function..."
   ]
  },
  {
   "cell_type": "code",
   "execution_count": 8,
   "metadata": {},
   "outputs": [],
   "source": [
    "def plot_continuous_function(function, t_min, t_max):\n",
    "    t = np.linspace(t_min, t_max)\n",
    "    x = function(t)\n",
    "    plt.plot(t,x)"
   ]
  },
  {
   "cell_type": "code",
   "execution_count": 9,
   "metadata": {},
   "outputs": [
    {
     "data": {
      "image/png": "[encoded data removed]",
      "text/plain": [
       "<matplotlib.figure.Figure at 0x7fa955385f98>"
      ]
     },
     "metadata": {
      "needs_background": "light"
     },
     "output_type": "display_data"
    }
   ],
   "source": [
    "plot_continuous_function(position_b, 0, 6.12)\n",
    "plt.show()"
   ]
  },
  {
   "cell_type": "markdown",
   "metadata": {},
   "source": [
    "Take a look at `plot_continuous_function`. \n",
    "\n",
    "Notice anything weird about it?\n",
    "\n",
    "This function actually *takes another function as input*. This is a perfectly valid thing to do in Python, but I know the first time I saw code like this I found it pretty hard to wrap my head around what was going on.\n",
    "\n",
    "Just wait until a bit later in this notebook when you'll see a function that actually `return`s another function!\n",
    "\n",
    "For now, let me show you other ways you can use `plot_continuous_function`."
   ]
  },
  {
   "cell_type": "code",
   "execution_count": 10,
   "metadata": {},
   "outputs": [
    {
     "data": {
      "image/png": "[encoded data removed]",
      "text/plain": [
       "<matplotlib.figure.Figure at 0x7fa955385630>"
      ]
     },
     "metadata": {
      "needs_background": "light"
     },
     "output_type": "display_data"
    }
   ],
   "source": [
    "def constant_position_motion(time):\n",
    "    position = 20\n",
    "    return position + 0*time\n",
    "\n",
    "def constant_velocity_motion(time):\n",
    "    velocity = 10\n",
    "    return velocity * time\n",
    "\n",
    "def constant_acceleration_motion(time):\n",
    "    acceleration = 9.8\n",
    "    return acceleration / 2 * time ** 2\n",
    "    \n",
    "plot_continuous_function(constant_position_motion, 0, 20)\n",
    "plt.show()"
   ]
  },
  {
   "cell_type": "code",
   "execution_count": 11,
   "metadata": {},
   "outputs": [
    {
     "data": {
      "image/png": "[encoded data removed]",
      "text/plain": [
       "<matplotlib.figure.Figure at 0x7fa953173240>"
      ]
     },
     "metadata": {
      "needs_background": "light"
     },
     "output_type": "display_data"
    }
   ],
   "source": [
    "# position vs time \n",
    "# with constant VELOCITY motion\n",
    "\n",
    "plot_continuous_function(constant_velocity_motion, 0, 20)\n",
    "plt.show()"
   ]
  },
  {
   "cell_type": "code",
   "execution_count": 12,
   "metadata": {},
   "outputs": [
    {
     "data": {
      "image/png": "[encoded data removed]",
      "text/plain": [
       "<matplotlib.figure.Figure at 0x7fa953010b70>"
      ]
     },
     "metadata": {
      "needs_background": "light"
     },
     "output_type": "display_data"
    }
   ],
   "source": [
    "# position vs time\n",
    "# with constant ACCELERATION motion\n",
    "\n",
    "plot_continuous_function(constant_acceleration_motion, 0, 20)\n",
    "plt.show()"
   ]
  },
  {
   "cell_type": "markdown",
   "metadata": {},
   "source": [
    "----"
   ]
  },
  {
   "cell_type": "markdown",
   "metadata": {},
   "source": [
    "## 3 - Find derivative \"by hand\" *at a specific point*\n",
    "\n",
    "Let's go back to the ball-thrown-in-air example from before and see if we can find the **velocity** of the ball at various times. Remember, the graph looked like this:"
   ]
  },
  {
   "cell_type": "code",
   "execution_count": 13,
   "metadata": {},
   "outputs": [
    {
     "data": {
      "image/png": "[encoded data removed]",
      "text/plain": [
       "<matplotlib.figure.Figure at 0x7fa953032668>"
      ]
     },
     "metadata": {
      "needs_background": "light"
     },
     "output_type": "display_data"
    }
   ],
   "source": [
    "plt.title(\"Position vs Time for ball thrown upwards\")\n",
    "plt.ylabel(\"Position above ground (meters)\")\n",
    "plt.xlabel(\"Time (seconds)\")\n",
    "plot_continuous_function(position_b,0,6.12)\n",
    "plt.show()"
   ]
  },
  {
   "cell_type": "markdown",
   "metadata": {},
   "source": [
    "Now I would like to know the **velocity** of the ball at t=2 seconds. \n",
    "\n",
    "> GOAL - Find the velocity of the ball at t=2 seconds\n",
    "\n",
    "And remember, **velocity is the derivative of position**, which means **velocity is the slope of the tangent line of position**\n",
    "\n",
    "Well we have the position vs time graph... now we just need to find the slope of the tangent line to that graph AT t=2. \n",
    "\n",
    "One way to do that is to just zoom in on the graph until it starts to look straight. I can do that by changing the `t_min` and `t_max` that I pass into `plot_continuous_function`."
   ]
  },
  {
   "cell_type": "markdown",
   "metadata": {},
   "source": [
    "#### EXERCISE - \"Linearize\" a function by zooming in\n",
    "\n",
    "The code below allows you to adjust a single parameter `DELTA_T` in order to control how zoomed in you are. \n",
    "\n",
    "Read through and run the code to get a sense for how it works. \n",
    "\n",
    "Then you should adjust `DELTA_T` until the graph looks like a straight line. Start by trying `DELTA_T = 3.0`, then `DELTA_T = 2.5`, then `2.0` etc... \n",
    "\n",
    "The \"formal definition of the derivative\" had a part that said:\n",
    "\n",
    "$$\\lim_{\\Delta t \\to 0}$$\n",
    "\n",
    "This activity is an exploration of why \"taking delta t to zero\" makes sense."
   ]
  },
  {
   "cell_type": "code",
   "execution_count": 15,
   "metadata": {},
   "outputs": [
    {
     "data": {
      "image/png": "[encoded data removed]",
      "text/plain": [
       "<matplotlib.figure.Figure at 0x7fa952f32b70>"
      ]
     },
     "metadata": {
      "needs_background": "light"
     },
     "output_type": "display_data"
    }
   ],
   "source": [
    "DELTA_T = 0.06\n",
    "\n",
    "# you don't need to touch the code below\n",
    "\n",
    "t_min = 2 - (DELTA_T / 2)\n",
    "t_max = 2 + (DELTA_T / 2)\n",
    "\n",
    "plt.title(\"Position vs Time for ball thrown upwards\")\n",
    "plt.ylabel(\"Position above ground (meters)\")\n",
    "plt.xlabel(\"Time (seconds)\")\n",
    "plot_continuous_function(position_b, t_min, t_max)\n",
    "plt.show()"
   ]
  },
  {
   "cell_type": "markdown",
   "metadata": {},
   "source": [
    "With `DELTA_T = 0.06` (try it) the graph looks like this:\n",
    "\n",
    "![](https://d17h27t6h515a5.cloudfront.net/topher/2017/December/5a31a625_linearized/linearized.png)\n",
    "\n",
    "which looks PRETTY straight to me. Since we've zoomed in SO much the graph looks like a straight line.\n",
    "\n",
    "The tangent line to this graph (at t=2) will have to have a slope that's REALLY close to the slope of *this* linear approximation.\n",
    "\n",
    "So what's the slope of this line? \n",
    "\n",
    "$$\\text{slope}=\\frac{\\text{vertical change in graph}}{\\text{horizontal change in graph}}$$\n",
    "\n",
    "or, another way to say that:\n",
    "\n",
    "$$\\text{slope}=\\frac{\\Delta z}{\\Delta t}$$"
   ]
  },
  {
   "cell_type": "markdown",
   "metadata": {},
   "source": [
    "**Vertical change**\n",
    "\n",
    "The position has a value of about **40.08** (just less than 40.1) at the beginning and increases to about **40.71**  at the end. So the vertical change is \n",
    "\n",
    "$$\\Delta z = 40.71 - 40.08 = 0.63 \\text{ meters}$$ "
   ]
  },
  {
   "cell_type": "markdown",
   "metadata": {},
   "source": [
    "**Horizontal change**\n",
    "\n",
    "The horizontal change is just $\\Delta t$, which in this case is 0.06 seconds.\n",
    "\n",
    "**Slope**\n",
    "\n",
    "$$\\text{slope} = \\frac{0.63 \\text{ meters}}{0.06 \\text{ seconds}} = 10.5 \\text{ meters per second}$$"
   ]
  },
  {
   "cell_type": "markdown",
   "metadata": {},
   "source": [
    "----"
   ]
  },
  {
   "cell_type": "markdown",
   "metadata": {},
   "source": [
    "## 4 - Finding derivatives algorithmically *at a certain point*\n",
    "\n",
    "Why would we calculate the vertical change by looking at a graph? Let's just get the EXACT change numerically. \n",
    "\n",
    "The change in position for the zoomed in graph (which shows values from $t = 1.97$ to $t = 2.03$ is given mathematically as:\n",
    "\n",
    "$$\\Delta z = f(2.03) - f(1.97)$$\n",
    "\n",
    "And we can calculate this in code as well!"
   ]
  },
  {
   "cell_type": "code",
   "execution_count": 16,
   "metadata": {},
   "outputs": [
    {
     "name": "stdout",
     "output_type": "stream",
     "text": [
      "the graph goes from 40.08359 at t=1.97\n",
      "to 40.707589999999996 at t=2.03\n",
      "which is a delta z of 0.6239999999999952\n",
      "\n",
      "This gives a slope of 10.39999999999992\n"
     ]
    }
   ],
   "source": [
    "DELTA_Z = position_b(2.03) - position_b(1.97)\n",
    "DELTA_T = 0.06\n",
    "SLOPE = DELTA_Z / DELTA_T\n",
    "\n",
    "print(\"the graph goes from\", position_b(1.97), \"at t=1.97\")\n",
    "print(\"to\", position_b(2.03), \"at t=2.03\")\n",
    "print(\"which is a delta z of\", DELTA_Z)\n",
    "print()\n",
    "print(\"This gives a slope of\", SLOPE)"
   ]
  },
  {
   "cell_type": "markdown",
   "metadata": {},
   "source": [
    "Using the **exact** values of the function gives us a more accurate value for the slope (and therefore the velocity of the ball). But now it looks like we've answered our question:\n",
    "\n",
    "> The velocity of the ball at $t=2$ is **10.4 meters per second**"
   ]
  },
  {
   "cell_type": "markdown",
   "metadata": {},
   "source": [
    "#### EXERCISE - Find the speed of the ball at t = 3.45\n",
    "\n",
    "Use a sequence of steps similar to what we just did for $t=2$ to find the velocity of the ball at $t=3.45$ "
   ]
  },
  {
   "cell_type": "code",
   "execution_count": 17,
   "metadata": {},
   "outputs": [
    {
     "name": "stdout",
     "output_type": "stream",
     "text": [
      "speed is -3.810000000000713 m/s at t = 3.45\n"
     ]
    }
   ],
   "source": [
    "# SOLUTION - FIRST ATTEMPT\n",
    "\n",
    "# 1. set some relevant parameters\n",
    "TIME    = 3.45\n",
    "DELTA_T = 0.02\n",
    "\n",
    "# 2. The \"window\" should extend 0.01 to the left and \n",
    "#    0.01 to the right of the target TIME\n",
    "t_min = TIME - (DELTA_T / 2)\n",
    "t_max = TIME + (DELTA_T / 2)\n",
    "\n",
    "# 3. calculate the value of the function at the left and\n",
    "#    right edges of our \"window\"\n",
    "z_at_t_min = position_b(t_min)\n",
    "z_at_t_max = position_b(t_max)\n",
    "\n",
    "# 4. calculate vertical change\n",
    "delta_z = z_at_t_max - z_at_t_min\n",
    "\n",
    "# 5. calculate slope\n",
    "slope = delta_z / DELTA_T\n",
    "\n",
    "print(\"speed is\",slope, \"m/s at t =\", TIME)"
   ]
  },
  {
   "cell_type": "code",
   "execution_count": null,
   "metadata": {},
   "outputs": [],
   "source": [
    "#\n",
    "\n",
    "#\n",
    "\n",
    "#\n",
    "\n",
    "# Spoiler alert! Solution below!\n",
    "\n",
    "#\n",
    "\n",
    "#\n",
    "\n",
    "#\n",
    "\n",
    "#"
   ]
  },
  {
   "cell_type": "code",
   "execution_count": 18,
   "metadata": {},
   "outputs": [
    {
     "name": "stdout",
     "output_type": "stream",
     "text": [
      "speed is -3.810000000000713 m/s at t = 3.45\n"
     ]
    }
   ],
   "source": [
    "# SOLUTION - FIRST ATTEMPT\n",
    "\n",
    "# 1. set some relevant parameters\n",
    "TIME    = 3.45\n",
    "DELTA_T = 0.02\n",
    "\n",
    "# 2. The \"window\" should extend 0.01 to the left and \n",
    "#    0.01 to the right of the target TIME\n",
    "t_min = TIME - (DELTA_T / 2)\n",
    "t_max = TIME + (DELTA_T / 2)\n",
    "\n",
    "# 3. calculate the value of the function at the left and\n",
    "#    right edges of our \"window\"\n",
    "z_at_t_min = position_b(t_min)\n",
    "z_at_t_max = position_b(t_max)\n",
    "\n",
    "# 4. calculate vertical change\n",
    "delta_z = z_at_t_max - z_at_t_min\n",
    "\n",
    "# 5. calculate slope\n",
    "slope = delta_z / DELTA_T\n",
    "\n",
    "print(\"speed is\",slope, \"m/s at t =\", TIME)"
   ]
  },
  {
   "cell_type": "markdown",
   "metadata": {},
   "source": [
    "You can see my solution above. This code *approximates* the derivative of our position_b function at the time $t=3.45$.\n",
    "\n",
    "With a bit of modification we could make this into a function that approximates the derivative of **any** function at **any** time!"
   ]
  },
  {
   "cell_type": "code",
   "execution_count": null,
   "metadata": {},
   "outputs": [],
   "source": [
    "# SOLUTION - second (better) version\n",
    "def approximate_derivative(f, t):\n",
    "    # 1. Set delta_t. Note that I've made it REALLY small.\n",
    "    delta_t = 0.00001\n",
    "    \n",
    "    # 2. calculate the vertical change of the function\n",
    "    #    NOTE that the \"window\" is not centered on our \n",
    "    #    target time anymore. This shouldn't be a problem\n",
    "    #    if delta_t is small enough.\n",
    "    vertical_change = f(t + delta_t) - f(t)\n",
    "    \n",
    "    # 3. return the slope\n",
    "    return vertical_change / delta_t\n",
    "\n",
    "deriv_at_3_point_45 = approximate_derivative(position_b, 3.45)\n",
    "print(\"The derivative at t = 3.45 is\", deriv_at_3_point_45)"
   ]
  },
  {
   "cell_type": "markdown",
   "metadata": {},
   "source": [
    "Let's connect the code in the function above to the mathematical  definition of the derivative...\n",
    "\n",
    "> The **derivative of $f(t)$ with respect to t** is the function $\\dot{f}(t)$ and is defined as\n",
    "\n",
    "> $$\\dot{f}(t) = \\lim_{\\Delta t \\to 0} \\frac{f(t+\\Delta t) - f(t)}{\\Delta t}$$\n",
    "\n",
    "1. As you can see, I made `delta_t` very small (0.00001) so as to approximate \"the limit as $\\Delta t$ goes to 0\". Why not just set `delta_t = 0.0`? Go ahead! Try it in function above. See what happens when you try to run it :)\n",
    "\n",
    "2. The vertical change of the function at time `t` is calculated in the exact same way that the mathematical definition prescribes.\n",
    "\n",
    "3. The slope is calculated identically as well."
   ]
  },
  {
   "cell_type": "markdown",
   "metadata": {},
   "source": [
    "----"
   ]
  },
  {
   "cell_type": "markdown",
   "metadata": {},
   "source": [
    "## 5 - OPTIONAL: Finding the \"full\" derivative\n",
    "\n",
    "The `approximate_derivative` function is good because it works for ANY function at ANY point. But I want to know the derivative of ANY function at **EVERY** point. \n",
    "\n",
    "> GOAL - I want a function that takes a continuous function as input and produces ANOTHER continuous function as output. The output function should be the derivative of the input function."
   ]
  },
  {
   "cell_type": "code",
   "execution_count": null,
   "metadata": {},
   "outputs": [],
   "source": [
    "# These four lines of code do exactly what we wanted!\n",
    "# There is a good chance that this will be the \n",
    "# hardest-to-understand code you see in this whole \n",
    "# Nanodegree, so don't worry if you're confused. \n",
    "\n",
    "def get_derivative(f):\n",
    "    def f_dot(t):\n",
    "        return approximate_derivative(f,t)\n",
    "    return f_dot"
   ]
  },
  {
   "cell_type": "markdown",
   "metadata": {},
   "source": [
    "After reading (and running) the code above, try running the code cells below to see why this function is useful..."
   ]
  },
  {
   "cell_type": "code",
   "execution_count": null,
   "metadata": {},
   "outputs": [],
   "source": [
    "# plot 1 - a reminder of what our position function looks like.\n",
    "#         Remember, this is a plot of vertical POSITION vs TIME\n",
    "#         for a ball that was thrown upwards.\n",
    "\n",
    "plt.title(\"Position vs Time for ball thrown upwards\")\n",
    "plt.ylabel(\"Position above ground (meters)\")\n",
    "plt.xlabel(\"Time (seconds)\")\n",
    "plot_continuous_function(position_b, 0, 6.12)\n",
    "plt.show()"
   ]
  },
  {
   "cell_type": "code",
   "execution_count": null,
   "metadata": {},
   "outputs": [],
   "source": [
    "# plot 2 - a plot of VELOCITY vs TIME for the same ball! Note \n",
    "#    how the ball begins with a large positive velocity (since\n",
    "#    it's moving upwards) and ends with a large negative \n",
    "#    velocity (downwards motion right before it hits the ground)\n",
    "\n",
    "velocity_b = get_derivative(position_b)\n",
    "plot_continuous_function(velocity_b, 0, 6.12)\n",
    "plt.show()"
   ]
  },
  {
   "cell_type": "code",
   "execution_count": null,
   "metadata": {},
   "outputs": [],
   "source": [
    "# plot 3 - a plot of ACCELERATION vs TIME for the same ball.\n",
    "#    Note that the acceleration is a constant value \n",
    "#    of -9.8 m/s/s. That's because gravity always causes \n",
    "#    objects to accelerate DOWNWARDS at that rate.\n",
    "\n",
    "acceleration_b = get_derivative(velocity_b)\n",
    "plt.ylim([-11, -9])\n",
    "plot_continuous_function(acceleration_b, 0, 6.12)\n",
    "plt.show()"
   ]
  },
  {
   "cell_type": "code",
   "execution_count": null,
   "metadata": {},
   "outputs": [],
   "source": [
    "# plot 4 - All 3 plots at once!\n",
    "plot_continuous_function(position_b, 0, 6.12)\n",
    "plot_continuous_function(velocity_b, 0, 6.12)\n",
    "plot_continuous_function(acceleration_b, 0, 6.12)\n",
    "plt.show()"
   ]
  },
  {
   "cell_type": "markdown",
   "metadata": {},
   "source": [
    "Now that you've seen what `get_derivative` can do for us, let's try to understand how it works...\n",
    "\n",
    "```python\n",
    "def get_derivative(f):\n",
    "    def f_dot(t):\n",
    "        return approximate_derivative(f,t)\n",
    "    return f_dot\n",
    "```\n",
    "\n",
    "Let's go line by line.\n",
    "\n",
    "1. `def get_derivative(f):` The important thing to note here is that this function only takes ONE input and that input is a function `f`.\n",
    "\n",
    "2. `def f_dot(t):` Here we define a new function INSIDE `get_derivative`. And note that THIS function only takes a single input `t`.\n",
    "\n",
    "3. `return approximate_derivative(f,t)` Here we define the behavior of `f_dot` **when called with some time `t`**. And what we want it to do is to approximate the derivative of the function `f` at time `t`.\n",
    "\n",
    "4. `return f_dot` Here we return the function that we just defined! Weird, but reasonable if you think about it. Now, if you think about the `get_derivative` functions overall role, it's this: take a function as input and produce another function (which is the derivative) as output.\n"
   ]
  }
 ],
 "metadata": {
  "kernelspec": {
   "display_name": "Python 3",
   "language": "python",
   "name": "python3"
  },
  "language_info": {
   "codemirror_mode": {
    "name": "ipython",
    "version": 3
   },
   "file_extension": ".py",
   "mimetype": "text/x-python",
   "name": "python",
   "nbconvert_exporter": "python",
   "pygments_lexer": "ipython3",
   "version": "3.6.3"
  }
 },
 "nbformat": 4,
 "nbformat_minor": 2
}
