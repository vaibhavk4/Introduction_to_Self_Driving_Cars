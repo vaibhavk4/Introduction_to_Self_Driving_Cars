{
 "cells": [
  {
   "cell_type": "markdown",
   "metadata": {},
   "source": [
    "# Right Angle Robot\n",
    "Before we jump into trigonometry, I want to familiarize you with the Vehicle class you'll be using in this lesson (and get you thinking about motion in general).\n",
    "\n",
    "In this notebook you will complete a `Vehicle` class by filling out two methods: `drive_forward` and `turn_right`. \n",
    "\n",
    "Note that this version of a Vehicle class can ONLY face in one of 4 directions: (E)ast, (N)orth, (W)est, or (S)outh. The vehicle's current direction is stored in its `heading` property.\n",
    "\n",
    "When you've implemented the two methods below you can run the testing cells at the bottom of the Notebook to ensure everything is behaving as expected.\n",
    "\n",
    "### TODO - Implement  `drive_forward` and `turn_right`\n",
    "**Solution code is provided in the next notebook.**"
   ]
  },
  {
   "cell_type": "code",
   "execution_count": 10,
   "metadata": {},
   "outputs": [],
   "source": [
    "import numpy as np\n",
    "from math import pi\n",
    "from matplotlib import pyplot as plt\n",
    "\n",
    "class Vehicle:\n",
    "    def __init__(self):\n",
    "        self.x       = 0 # meters\n",
    "        self.y       = 0\n",
    "        self.heading = \"E\" # Can be \"N\", \"S\", \"E\", or \"W\"\n",
    "        self.history = []\n",
    "        \n",
    "    def drive_forward(self, displacement):\n",
    "        \"\"\"\n",
    "        Updates x and y coordinates of vehicle based on \n",
    "        heading and appends previous (x,y) position to\n",
    "        history.\n",
    "        \"\"\"\n",
    "        \n",
    "        # east\n",
    "        if self.heading == \"E\":\n",
    "            delta_x = displacement \n",
    "            delta_y = 0\n",
    "        \n",
    "        # north\n",
    "        elif self.heading == \"N\":\n",
    "            delta_x = 0 \n",
    "            delta_y = displacement\n",
    "        \n",
    "        # west\n",
    "        elif self.heading == \"W\":\n",
    "            delta_x = -displacement\n",
    "            delta_y = 0\n",
    "        \n",
    "        # south\n",
    "        else:\n",
    "            delta_x = 0 \n",
    "            delta_y = -displacement\n",
    "            \n",
    "        new_x = self.x + delta_x\n",
    "        new_y = self.y + delta_y\n",
    "        \n",
    "        self.history.append((self.x, self.y))\n",
    "\n",
    "        self.x = new_x\n",
    "        self.y = new_y\n",
    "        \n",
    "    def turn(self, direction):\n",
    "        if direction == \"L\":\n",
    "            self.turn_left()\n",
    "        elif direction == \"R\":\n",
    "            self.turn_right()\n",
    "        else:\n",
    "            print(\"Error. Direction must be 'L' or 'R'\")\n",
    "            return\n",
    "        \n",
    "    def turn_left(self):\n",
    "        next_heading = {\n",
    "            \"N\" : \"W\",\n",
    "            \"W\" : \"S\",\n",
    "            \"S\" : \"E\",\n",
    "            \"E\" : \"N\",\n",
    "        }\n",
    "        self.heading = next_heading[self.heading]\n",
    "        \n",
    "    def turn_right(self):\n",
    "        next_heading = {\n",
    "            \"N\" : \"E\",\n",
    "            \"W\" : \"N\",\n",
    "            \"S\" : \"W\",\n",
    "            \"E\" : \"S\",\n",
    "        }\n",
    "        self.heading = next_heading[self.heading]\n",
    "    \n",
    "    def show_trajectory(self):\n",
    "        \"\"\"\n",
    "        Creates a scatter plot of vehicle's trajectory.\n",
    "        \"\"\"\n",
    "        X = [p[0] for p in self.history]\n",
    "        Y = [p[1] for p in self.history]\n",
    "        \n",
    "        X.append(self.x)\n",
    "        Y.append(self.y)\n",
    "        \n",
    "        plt.scatter(X,Y)\n",
    "        plt.plot(X,Y)\n",
    "        plt.show()"
   ]
  },
  {
   "cell_type": "code",
   "execution_count": 11,
   "metadata": {},
   "outputs": [
    {
     "data": {
      "image/png": "[encoded data removed]",
      "text/plain": [
       "<matplotlib.figure.Figure at 0x7ff75f58a3c8>"
      ]
     },
     "metadata": {
      "needs_background": "light"
     },
     "output_type": "display_data"
    },
    {
     "name": "stdout",
     "output_type": "stream",
     "text": [
      "Nice job! Your vehicle is behaving as expected!\n"
     ]
    }
   ],
   "source": [
    "# TESTING CODE 1\n",
    "\n",
    "# instantiate vehicle\n",
    "v = Vehicle()\n",
    "\n",
    "# drive in spirals of decreasing size\n",
    "v.drive_forward(8)\n",
    "v.turn(\"L\")\n",
    "\n",
    "v.drive_forward(5)\n",
    "v.turn(\"L\")\n",
    "\n",
    "v.drive_forward(5)\n",
    "v.turn(\"L\")\n",
    "\n",
    "v.drive_forward(4)\n",
    "v.turn(\"L\")\n",
    "\n",
    "v.drive_forward(4)\n",
    "v.turn(\"L\")\n",
    "\n",
    "v.drive_forward(3)\n",
    "v.turn(\"L\")\n",
    "\n",
    "v.drive_forward(3)\n",
    "v.turn(\"L\")\n",
    "\n",
    "v.drive_forward(2)\n",
    "v.turn(\"L\")\n",
    "\n",
    "v.drive_forward(2)\n",
    "v.turn(\"L\")\n",
    "\n",
    "v.drive_forward(1)\n",
    "v.turn(\"L\")\n",
    "\n",
    "v.drive_forward(1)\n",
    "\n",
    "# show the trajectory. It should look like a spiral\n",
    "v.show_trajectory()\n",
    "\n",
    "# TESTING\n",
    "assert(v.x == 5)\n",
    "assert(v.y == 3)\n",
    "first_5 = [\n",
    "    (0, 0),\n",
    "    (8, 0),\n",
    "    (8, 5),\n",
    "    (3, 5),\n",
    "    (3, 1)\n",
    "]\n",
    "assert(first_5 == v.history[:5])\n",
    "print(\"Nice job! Your vehicle is behaving as expected!\")"
   ]
  },
  {
   "cell_type": "code",
   "execution_count": 12,
   "metadata": {},
   "outputs": [
    {
     "data": {
      "image/png": "[encoded data removed]",
      "text/plain": [
       "<matplotlib.figure.Figure at 0x7ff75f509b38>"
      ]
     },
     "metadata": {
      "needs_background": "light"
     },
     "output_type": "display_data"
    },
    {
     "name": "stdout",
     "output_type": "stream",
     "text": [
      "Nice job! Your vehicle passed the zig zag test.\n"
     ]
    }
   ],
   "source": [
    "# TESTING CODE Part 2\n",
    "def test_zig_zag():\n",
    "    v = Vehicle()\n",
    "    for i in range(10):\n",
    "        for _ in range(4):\n",
    "            v.drive_forward(2)\n",
    "            v.turn(\"R\")\n",
    "            v.drive_forward(1)\n",
    "            v.turn(\"L\")\n",
    "        v.drive_forward(10)\n",
    "        v.turn(\"R\")\n",
    "    first_six = [\n",
    "        (0,0),\n",
    "        (2,0),\n",
    "        (2,-1),\n",
    "        (4,-1),\n",
    "        (4,-2),\n",
    "        (6,-2)\n",
    "    ]\n",
    "    v.show_trajectory()\n",
    "    assert(v.x == 14)\n",
    "    assert(v.y == -22)\n",
    "    assert(v.history[:6] == first_six)\n",
    "    print(\"Nice job! Your vehicle passed the zig zag test.\")\n",
    "test_zig_zag()"
   ]
  },
  {
   "cell_type": "markdown",
   "metadata": {},
   "source": [
    "## What's Next?\n",
    "\n",
    "We want to be able to keep track of vehicle trajectory for ANY heading, not just the four compass directions. "
   ]
  }
 ],
 "metadata": {
  "kernelspec": {
   "display_name": "Python 3",
   "language": "python",
   "name": "python3"
  },
  "language_info": {
   "codemirror_mode": {
    "name": "ipython",
    "version": 3
   },
   "file_extension": ".py",
   "mimetype": "text/x-python",
   "name": "python",
   "nbconvert_exporter": "python",
   "pygments_lexer": "ipython3",
   "version": "3.6.3"
  }
 },
 "nbformat": 4,
 "nbformat_minor": 2
}
