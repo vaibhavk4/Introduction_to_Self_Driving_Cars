{
 "cells": [
  {
   "cell_type": "markdown",
   "metadata": {},
   "source": [
    "# Iteration and Stopping\n",
    "\n",
    "Consider the same road as in the last demonstration. Now that we know how to read information from an array that represents the road, we want to act on this information! It will be up to you to tell the car to stop if it's right in front of the stop sign.\n",
    "\n",
    "<img src=\"files/images/stop_4.png\" width=\"50%\" height=\"50%\" >\n",
    "\n",
    "### The road"
   ]
  },
  {
   "cell_type": "code",
   "execution_count": 54,
   "metadata": {},
   "outputs": [
    {
     "name": "stdout",
     "output_type": "stream",
     "text": [
      "['r' 'r' 'r' 'r' 'r' 's' 'r']\n"
     ]
    }
   ],
   "source": [
    "import numpy as np\n",
    "\n",
    "# The 1x7 road\n",
    "road = np.array(['r', 'r', 'r', 'r', 'r', 's', 'r'])\n",
    "print(road)"
   ]
  },
  {
   "cell_type": "markdown",
   "metadata": {},
   "source": [
    "### TODO: Complete  `find_stop_index`\n",
    "\n",
    "Complete this function so that it returns the index of the cell that is *right before* the stop sign (ex. 0, if the stop sign is at index 1)!"
   ]
  },
  {
   "cell_type": "code",
   "execution_count": 55,
   "metadata": {},
   "outputs": [],
   "source": [
    "# This function takes in the road and determines where to stop\n",
    "def find_stop_index(road):\n",
    "    ## Iterating through the road array\n",
    "    ## Checking if a stop sign ('s') is found in the array\n",
    "    ## If one is, break out of your iteration\n",
    "    ## and return the value of the index that is *right before* the stop sign\n",
    "\n",
    "    stop_index = 0\n",
    "        \n",
    "    length = len(road)\n",
    "    for index in range(0,length):\n",
    "        value = road[index]\n",
    "        #print(value)\n",
    "        if value == 's':\n",
    "            stop_index = index-1\n",
    "            \n",
    "            #print('We have stopped at' + str(index) + 'which has a value of' + str(value))\n",
    "            break\n",
    "    return stop_index"
   ]
  },
  {
   "cell_type": "markdown",
   "metadata": {},
   "source": [
    "### Testing Cell\n",
    "\n",
    "Run this cell and it will compare the output of function with the correct, expected output.\n",
    "\n",
    "**Assertions**\n",
    "\n",
    "This cell is using something called `assertions` in Python, which are statements that check the validity of code. In this case, the first assertion checks that the output of your function: `stop`, is equal to the expected output: `correct_stop` and then prints out feedback!\n",
    "\n",
    "**code should pass both tests and work for any 1D road.**"
   ]
  },
  {
   "cell_type": "code",
   "execution_count": 56,
   "metadata": {},
   "outputs": [
    {
     "name": "stdout",
     "output_type": "stream",
     "text": [
      "That's right!\n",
      "You passed the second test!\n"
     ]
    }
   ],
   "source": [
    "# Test code - do not change\n",
    "import array_solution\n",
    "\n",
    "# This line calls the stop function and stores the output\n",
    "stop = find_stop_index(road)\n",
    "correct_stop = array_solution.stop_test(road)\n",
    "\n",
    "# Assertion, comparison test\n",
    "try:\n",
    "    assert(stop == correct_stop)\n",
    "    print('That\\'s right!')\n",
    "except:\n",
    "    print ('Your code returned that the stop index is: ' +str(stop) \n",
    "           + ', which does not match the correct value: ' +str(correct_stop))\n",
    "\n",
    "# Test 2\n",
    "stop2 = find_stop_index(array_solution.test_road)\n",
    "correct_stop2 = array_solution.stop_test(array_solution.test_road)\n",
    "\n",
    "try:\n",
    "    assert(stop2 == correct_stop2)    \n",
    "    print('You passed the second test!')\n",
    "except:\n",
    "    print ('For test 2, your code returned that the stop index is: ' +str(stop2) \n",
    "           + ', which does not match the correct value.')"
   ]
  },
  {
   "cell_type": "code",
   "execution_count": null,
   "metadata": {
    "collapsed": true
   },
   "outputs": [],
   "source": []
  }
 ],
 "metadata": {
  "anaconda-cloud": {},
  "kernelspec": {
   "display_name": "Python 3",
   "language": "python",
   "name": "python3"
  },
  "language_info": {
   "codemirror_mode": {
    "name": "ipython",
    "version": 3
   },
   "file_extension": ".py",
   "mimetype": "text/x-python",
   "name": "python",
   "nbconvert_exporter": "python",
   "pygments_lexer": "ipython3",
   "version": "3.6.3"
  }
 },
 "nbformat": 4,
 "nbformat_minor": 1
}
