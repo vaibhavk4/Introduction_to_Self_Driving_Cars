{
 "cells": [
  {
   "cell_type": "markdown",
   "metadata": {},
   "source": [
    "# Calculating Probabilities\n",
    "\n",
    "In this lesson, you learned a lot about **Bayes' rule** and got more practice calculating the probability that an event will happen while working through examples. In the following quizzes, you'll be asked to write some simple functions that can help you calculate prior, joint, and total probabilities, given limited information. These will be useful calculations to understand and implement in code.\n",
    "\n",
    "Once you write your code, it's good practice to test your code and work through any small errors that may occur, so I encourage you to run your code with some test probability values to see if your code is working the way you expect. The last cell in this notebook will also provide feedback on your output! \n",
    "\n",
    "The following code quizzes assume that you are familiar with the notation:\n",
    "\n",
    "The probability of an event A happening:\n",
    "$$P(A)$$\n",
    "\n",
    "The probability of another event or test B happening, given the occurrence of event A:\n",
    "$$P(B|A)$$\n",
    "\n",
    "The probability of another event or test B happening, given that event A has *not* occurred:\n",
    "$$P(B|\\neg A)$$ "
   ]
  },
  {
   "cell_type": "markdown",
   "metadata": {},
   "source": [
    "### TODO: Complete the `complement` function\n",
    "\n",
    "Complete the function so that it returns the complement of P(A), which is the probability that the event did not happen."
   ]
  },
  {
   "cell_type": "code",
   "execution_count": 23,
   "metadata": {},
   "outputs": [
    {
     "name": "stdout",
     "output_type": "stream",
     "text": [
      "Your function returned that the complement of 0.7 is: 0.30000000000000004\n"
     ]
    }
   ],
   "source": [
    "# The complement function takes in the probability of an event, P(A).\n",
    "def complement(p_A):\n",
    "    \n",
    "    \n",
    "    complement = 1 - (p_A)\n",
    "    \n",
    "    return complement\n",
    "\n",
    "    \n",
    "## Change this test value and test out your code!\n",
    "p_test = 0.7\n",
    "\n",
    "# Running your code with the p_test value\n",
    "complement_test = complement(p_test)\n",
    "print('Your function returned that the complement of '+str(p_test) +' is: '+str(complement_test))"
   ]
  },
  {
   "cell_type": "markdown",
   "metadata": {},
   "source": [
    "### Testing Cell\n",
    "\n",
    "Run this cell and it will compare the output of your function with the correct, expected output.\n",
    "\n",
    "**Assertions**\n",
    "\n",
    "This cell is using something called `assertions` in Python, which are statements that check the validity of code. In this case, the assertion checks that the output of your function: `comp`, is equal to the expected output: `correct_comp` and then prints out feedback!\n",
    "\n",
    "**Your code should pass both tests and work for any value of p_A.**"
   ]
  },
  {
   "cell_type": "code",
   "execution_count": 24,
   "metadata": {},
   "outputs": [
    {
     "name": "stdout",
     "output_type": "stream",
     "text": [
      "That's right!\n",
      "That's right!\n"
     ]
    }
   ],
   "source": [
    "\n",
    "import solution\n",
    "\n",
    "test_value = 0.4265\n",
    "\n",
    "# This line calls the function and stores the output\n",
    "comp = complement(test_value)\n",
    "correct_comp = solution.complement(test_value)\n",
    "\n",
    "# Assertion, comparison test\n",
    "try:\n",
    "    assert(abs(comp - correct_comp) < 0.0001)\n",
    "    print('That\\'s right!')\n",
    "except:\n",
    "    print ('Your code returned that the complement is: ' +str(comp) \n",
    "           + ', which does not match the correct value: ' +str(correct_comp))\n",
    "\n",
    "\n",
    "# Test 2\n",
    "comp2 = complement(solution.test_value)\n",
    "correct_comp2 = solution.complement(solution.test_value)\n",
    "\n",
    "# Assertion, comparison test\n",
    "try:\n",
    "    assert(abs(comp2 - correct_comp2) < 0.0001)\n",
    "    print('That\\'s right!')\n",
    "except:\n",
    "    print ('For test 2, your code returned that the complement is: ' +str(comp2) \n",
    "           + ', which does not match the correct value.')"
   ]
  },
  {
   "cell_type": "markdown",
   "metadata": {},
   "source": [
    "### Calculating Joint Probabilities\n",
    "\n",
    "### TODO: Comple `joint`"
   ]
  },
  {
   "cell_type": "code",
   "execution_count": 27,
   "metadata": {},
   "outputs": [
    {
     "name": "stdout",
     "output_type": "stream",
     "text": [
      "Your function returned that the joint probability is: 0.08000000000000002\n"
     ]
    }
   ],
   "source": [
    "## joint function\n",
    "def joint(p_A, p_B):\n",
    "    \n",
    "    \n",
    "    ## calculates the joint probability of \n",
    "    ## any variables p_A, p_B, WHEN THOSE PROBABILITIES\n",
    "    ## ARE INDEPENDENT (this code wouldn't work \n",
    "    ## for probabilities that depend on each other).\n",
    "    joint = p_A*p_B\n",
    "    \n",
    "    return joint\n",
    "\n",
    "    \n",
    "## Defined test probabilities and wrote print statements to test \n",
    "## the output of your function!\n",
    "p_a_test = 0.2\n",
    "p_b_test = 0.4\n",
    "j = joint(p_a_test, p_b_test)\n",
    "\n",
    "print('Your function returned that the joint probability is: '+str(j))"
   ]
  },
  {
   "cell_type": "markdown",
   "metadata": {},
   "source": [
    "### Testing Cell\n",
    "\n",
    "Run this cell and it will compare the output of your function with the correct, expected output.\n",
    "\n",
    "**Your code should pass both tests and work for any value of p_A and p_B.**"
   ]
  },
  {
   "cell_type": "code",
   "execution_count": 28,
   "metadata": {},
   "outputs": [
    {
     "name": "stdout",
     "output_type": "stream",
     "text": [
      "That's right!\n"
     ]
    }
   ],
   "source": [
    "# Test values\n",
    "test_A = 0.15\n",
    "test_B = 0.42\n",
    "\n",
    "# This line calls  function and stores the output\n",
    "j = joint(test_A, test_B)\n",
    "correct_j = solution.joint(test_A, test_B)\n",
    "\n",
    "# Assertion, comparison test\n",
    "try:\n",
    "    assert(abs(j - correct_j) < 0.0001)\n",
    "    print('That\\'s right!')\n",
    "except:\n",
    "    print ('Your code returned that the joint probability is: ' +str(j) \n",
    "           + ', which does not match the correct value.')\n"
   ]
  }
 ],
 "metadata": {
  "anaconda-cloud": {},
  "kernelspec": {
   "display_name": "Python 3",
   "language": "python",
   "name": "python3"
  },
  "language_info": {
   "codemirror_mode": {
    "name": "ipython",
    "version": 3
   },
   "file_extension": ".py",
   "mimetype": "text/x-python",
   "name": "python",
   "nbconvert_exporter": "python",
   "pygments_lexer": "ipython3",
   "version": "3.6.3"
  }
 },
 "nbformat": 4,
 "nbformat_minor": 1
}
